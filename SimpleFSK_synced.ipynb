{
 "cells": [
  {
   "cell_type": "markdown",
   "metadata": {},
   "source": [
    "# FSK Synced"
   ]
  },
  {
   "cell_type": "code",
   "execution_count": null,
   "metadata": {
    "collapsed": false
   },
   "outputs": [],
   "source": [
    "from coders import BitStream, WavStream, rint, sync_padding, min_error\n",
    "from coders import SimpleFSK as Coder\n",
    "from pipeline.util import ffmpeg\n",
    "import scipy.io.wavfile\n",
    "\n",
    "coder = Coder()\n",
    "ffmpeg = ffmpeg('ffmpeg')\n",
    "noise_in = 0.15\n",
    "noise_out = 0.15\n",
    "sync_duration = 0.4"
   ]
  },
  {
   "cell_type": "code",
   "execution_count": null,
   "metadata": {
    "collapsed": false
   },
   "outputs": [],
   "source": [
    "input_source = BitStream(np.random.randint(2, size=256))\n",
    "verification = input_source.assymbolwidth(coder.symbol_width)\n",
    "print('Input:', input_source)\n",
    "print('Verification:', verification)"
   ]
  },
  {
   "cell_type": "code",
   "execution_count": null,
   "metadata": {
    "collapsed": false
   },
   "outputs": [],
   "source": [
    "encoded = coder.encode(input_source)\n",
    "sync = sync_padding(coder, sync_duration)\n",
    "padded = np.concatenate((sync, encoded))\n",
    "padded_noisy = np.clip(padded + np.random.normal(0, noise_in, len(padded)), -1, 1)\n",
    "scipy.io.wavfile.write('test_in.wav', coder.r, padded_noisy)\n",
    "ffmpeg('test_in.wav', 'test_temp.amr', 8000)\n",
    "ffmpeg('test_temp.amr', 'test_out.wav', coder.r)\n",
    "converted_rate, converted_raw = scipy.io.wavfile.read('test_out.wav')\n",
    "converted_symbol_len = rint(converted_rate * coder.symbol_duration)\n",
    "converted = converted_raw / 32768\n",
    "converted_noisy = np.clip(converted + np.random.normal(0, noise_out, len(converted)), -1, 1)"
   ]
  },
  {
   "cell_type": "code",
   "execution_count": null,
   "metadata": {
    "collapsed": false
   },
   "outputs": [],
   "source": [
    "shift = (len(converted) - len(padded)) // 2\n",
    "shifted = WavStream(converted_noisy[shift:len(padded)+shift], converted_rate, converted_symbol_len)\n",
    "print('Shifted:', shift)"
   ]
  },
  {
   "cell_type": "code",
   "execution_count": null,
   "metadata": {
    "collapsed": false
   },
   "outputs": [],
   "source": [
    "sync_padding = rint(sync_duration * converted_rate)\n",
    "sync_clip = sync_padding // 10\n",
    "sync_shift = shift + min_error(padded, coder.filter(shifted), shift, sync_padding, sync_clip)\n",
    "print('Sync shift:', sync_shift)\n",
    "\n",
    "synced = WavStream(converted_noisy[sync_shift+sync_padding:len(encoded)+sync_shift+sync_padding],\n",
    "                    converted_rate, converted_symbol_len)"
   ]
  },
  {
   "cell_type": "code",
   "execution_count": null,
   "metadata": {
    "collapsed": false
   },
   "outputs": [],
   "source": [
    "%time output = coder.decode(synced)"
   ]
  },
  {
   "cell_type": "code",
   "execution_count": null,
   "metadata": {
    "collapsed": false
   },
   "outputs": [],
   "source": [
    "check = verification == output\n",
    "quality = (check.sum()/len(check)).item()\n",
    "rate = len(synced)/(len(input_source.assymbolwidth(1)) * converted_rate)\n",
    "\n",
    "start, end = 0, 2000\n",
    "sns.tsplot(encoded[start:end])\n",
    "sns.tsplot(synced[start:end], color='orange', alpha=.2)\n",
    "sns.tsplot(coder.filter(synced)[start:end], color='r', alpha=.5)\n",
    "print('Rate:', round(rate, 2))\n",
    "print('Quality:', round(quality, 2))"
   ]
  },
  {
   "cell_type": "code",
   "execution_count": null,
   "metadata": {
    "collapsed": true
   },
   "outputs": [],
   "source": []
  }
 ],
 "metadata": {
  "kernelspec": {
   "display_name": "Python 3",
   "language": "python",
   "name": "python3"
  },
  "language_info": {
   "codemirror_mode": {
    "name": "ipython",
    "version": 3
   },
   "file_extension": ".py",
   "mimetype": "text/x-python",
   "name": "python",
   "nbconvert_exporter": "python",
   "pygments_lexer": "ipython3",
   "version": "3.5.1"
  }
 },
 "nbformat": 4,
 "nbformat_minor": 0
}
