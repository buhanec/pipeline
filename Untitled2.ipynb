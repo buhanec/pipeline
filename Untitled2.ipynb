{
 "cells": [
  {
   "cell_type": "code",
   "execution_count": 33,
   "metadata": {
    "collapsed": false
   },
   "outputs": [
    {
     "name": "stdout",
     "output_type": "stream",
     "text": [
      "[[1, 2], [5, 7, 8, 9], [12], [15, 19]]\n",
      "[[1, 2], [5, 7, 8, 9], [12], [15, 19]]\n"
     ]
    }
   ],
   "source": [
    "# Given a range and number of splits, arange values\n",
    "# from a sparse sorted array into appropriate splits\n",
    "\n",
    "r = (0, 20)\n",
    "n = 4\n",
    "inputs = [1, 2, 5, 7, 8, 9, 12, 15, 19]\n",
    "\n",
    "# Naive NP solution\n",
    "\n",
    "import numpy as np\n",
    "\n",
    "np_solution = [[n for n in split if n in inputs] for split in np.split(np.arange(*r), n)]\n",
    "print(np_solution)\n",
    "# Out: [[1, 2], [5, 7, 8, 9], [12], [15, 19]]\n",
    "\n",
    "# \"Optimized\" version\n",
    "\n",
    "it = iter(inputs)\n",
    "it_current = next(it)\n",
    "s = (r[1]-r[0])//n\n",
    "\n",
    "opt_solution = [[] for _ in range(n)]\n",
    "\n",
    "for i in range(n):\n",
    "    for j in range(s):\n",
    "        split_current = (n + 1) * i + j\n",
    "        while it_current <= split_current:\n",
    "            opt_solution[i].append(it_current)\n",
    "            try:\n",
    "                it_current = next(it)\n",
    "            except StopIteration:\n",
    "                break\n",
    "        continue\n",
    "\n",
    "print(opt_solution)\n",
    "# Out: [[1, 2], [5, 7, 8, 9], [12], [15, 19]]"
   ]
  },
  {
   "cell_type": "code",
   "execution_count": 41,
   "metadata": {
    "collapsed": false
   },
   "outputs": [],
   "source": [
    "def val_split(a, partitions, range_max, range_min=0, size=True):\n",
    "    if size:\n",
    "        n = int(np.ceil(range_max / partitions))\n",
    "        splits = partitions\n",
    "    else:\n",
    "        n = partitions\n",
    "        splits = (range_max - range_min) // partitions\n",
    "\n",
    "    it = iter(a)\n",
    "    it_current = next(it)\n",
    "    ret_val = [[] for _ in range(n)]\n",
    "\n",
    "    try:\n",
    "        for i in range(n):\n",
    "            for j in range(splits):\n",
    "                split_current = (partitions + 1) * i + j\n",
    "                while it_current <= split_current:\n",
    "                    ret_val[i].append(it_current)\n",
    "                    it_current = next(it)\n",
    "                continue\n",
    "    except StopIteration:\n",
    "        pass\n",
    "    return ret_val"
   ]
  },
  {
   "cell_type": "code",
   "execution_count": 43,
   "metadata": {
    "collapsed": false
   },
   "outputs": [
    {
     "data": {
      "text/plain": [
       "[[1, 2], [5, 7, 8, 9], [12], [15, 19]]"
      ]
     },
     "execution_count": 43,
     "metadata": {},
     "output_type": "execute_result"
    }
   ],
   "source": [
    "val_split(inputs, 4, 20, size=False)"
   ]
  },
  {
   "cell_type": "code",
   "execution_count": 46,
   "metadata": {
    "collapsed": false
   },
   "outputs": [
    {
     "data": {
      "text/plain": [
       "[[1, 2], [5, 7, 8, 9], [12, 15], [19]]"
      ]
     },
     "execution_count": 46,
     "metadata": {},
     "output_type": "execute_result"
    }
   ],
   "source": [
    "val_split(inputs, 5, 20, size=True)"
   ]
  },
  {
   "cell_type": "code",
   "execution_count": 47,
   "metadata": {
    "collapsed": false
   },
   "outputs": [
    {
     "data": {
      "text/plain": [
       "[[0, 1, 2, 3, 4],\n",
       " [5, 6, 7, 8, 9, 10],\n",
       " [11, 12, 13, 14, 15, 16],\n",
       " [17, 18, 19, 20, 21, 22]]"
      ]
     },
     "execution_count": 47,
     "metadata": {},
     "output_type": "execute_result"
    }
   ],
   "source": [
    "val_split(np.arange(0, 100), 5, 20, size=True)"
   ]
  },
  {
   "cell_type": "code",
   "execution_count": null,
   "metadata": {
    "collapsed": true
   },
   "outputs": [],
   "source": []
  }
 ],
 "metadata": {
  "kernelspec": {
   "display_name": "Python 3",
   "language": "python",
   "name": "python3"
  },
  "language_info": {
   "codemirror_mode": {
    "name": "ipython",
    "version": 3
   },
   "file_extension": ".py",
   "mimetype": "text/x-python",
   "name": "python",
   "nbconvert_exporter": "python",
   "pygments_lexer": "ipython3",
   "version": "3.5.1"
  }
 },
 "nbformat": 4,
 "nbformat_minor": 0
}
