{
 "cells": [
  {
   "cell_type": "markdown",
   "metadata": {},
   "source": [
    "# Parameter Mutation/Migration\n",
    "## Setup"
   ]
  },
  {
   "cell_type": "code",
   "execution_count": null,
   "metadata": {
    "collapsed": false
   },
   "outputs": [],
   "source": [
    "from coders import Parameter\n",
    "import scipy.stats\n",
    "colors = ['red', 'lime', 'blue', 'orange', 'magenta', 'darkkhaki']"
   ]
  },
  {
   "cell_type": "markdown",
   "metadata": {},
   "source": [
    "## Individual Mutation\n",
    "### Theoretical"
   ]
  },
  {
   "cell_type": "code",
   "execution_count": null,
   "metadata": {
    "collapsed": false
   },
   "outputs": [],
   "source": [
    "ys = np.linspace(-5, 5, 1000)\n",
    "sns.tsplot(scipy.stats.norm.pdf(ys, loc=1), condition='Normal', time=ys, color='r')\n",
    "sns.tsplot(scipy.stats.lognorm.pdf(ys, loc=np.log(1), s=1), condition='Log (1)', time=ys, color='lime')\n",
    "sns.tsplot(scipy.stats.lognorm.pdf(ys, loc=np.log(1), s=0.5), condition='Log (0.5)', time=ys, color='brown')\n",
    "sns.tsplot(scipy.stats.powernorm.pdf(ys, loc=1, c=2), condition='Power (2)', time=ys, color='b')\n",
    "sns.tsplot(scipy.stats.powernorm.pdf(ys, loc=1, c=3), condition='Power (3)', time=ys, color='m')\n",
    "sns.tsplot(scipy.stats.powernorm.pdf(ys, loc=1, c=4), condition='Power (4)', time=ys, color='orange')\n",
    "plt.show()"
   ]
  },
  {
   "cell_type": "markdown",
   "metadata": {},
   "source": [
    "### Setup"
   ]
  },
  {
   "cell_type": "code",
   "execution_count": null,
   "metadata": {
    "collapsed": true
   },
   "outputs": [],
   "source": [
    "def individual(params_1, runs_1=100000, runs_2=100):\n",
    "    vals_1 = np.array([[p.mutate().current for p in params_1] for _ in range(runs_1)])\n",
    "    for vals, c, p in zip(vals_1.T, colors, params_1):\n",
    "        sns.kdeplot(vals, bw=0.5, color=c, label=repr(p), legend=True)\n",
    "    plt.show()\n",
    "    vals_2 = [[p.current for p in params_1]]\n",
    "    params_1b = [p.mutate() for p in params_1]\n",
    "    for n in range(runs_2):\n",
    "        vals_2.append([p.current for p in params_1b])\n",
    "        params_1b = [p.mutate() for p in params_1b]\n",
    "    for v, c, p in zip(np.array(vals_2).T, colors, params_1):\n",
    "        sns.tsplot(v, color=c, condition=repr(p), legend=True)\n",
    "    plt.show()\n",
    "    for v, c, p in zip(np.array(vals_2).T, colors, params_1):\n",
    "        if p.log:\n",
    "            sns.tsplot(np.log(v), color=c, condition=repr(p), legend=True)\n",
    "    plt.show()\n",
    "    return vals_1, vals_2"
   ]
  },
  {
   "cell_type": "markdown",
   "metadata": {},
   "source": [
    "### Normal"
   ]
  },
  {
   "cell_type": "code",
   "execution_count": null,
   "metadata": {
    "collapsed": false
   },
   "outputs": [],
   "source": [
    "params_1a = (Parameter(20, 1000, 250, scale=50),\n",
    "             Parameter(20, 1000, 500, scale=200),\n",
    "             Parameter(20, 1000, 750, scale=100))\n",
    "\n",
    "vals_1a, vals_1b = individual(params_1a)"
   ]
  },
  {
   "cell_type": "markdown",
   "metadata": {},
   "source": [
    "### Log"
   ]
  },
  {
   "cell_type": "code",
   "execution_count": null,
   "metadata": {
    "collapsed": false
   },
   "outputs": [],
   "source": [
    "r1x, r1y, s1 = 1, 1000, 2\n",
    "params_1b = (Parameter(r1x, r1y, r1y*1//4, scale=s1, log=True),\n",
    "             Parameter(r1x, r1y, r1y*2//4, scale=s1, log=True),\n",
    "             Parameter(r1x, r1y, r1y*3//4, scale=s1, log=True))\n",
    "\n",
    "vals_1c, vals_1d = individual(params_1b, 10000)"
   ]
  },
  {
   "cell_type": "markdown",
   "metadata": {},
   "source": [
    "### Polynomial over Normal"
   ]
  },
  {
   "cell_type": "code",
   "execution_count": null,
   "metadata": {
    "collapsed": false
   },
   "outputs": [],
   "source": [
    "params_1c = (Parameter(20, 1000, 250, scale=100, poly=2),\n",
    "             Parameter(20, 1000, 500, scale=100, poly=2),\n",
    "             Parameter(20, 1000, 750, scale=100, poly=2))\n",
    "\n",
    "vals_1e, vals_1f = individual(params_1c)"
   ]
  },
  {
   "cell_type": "markdown",
   "metadata": {},
   "source": [
    "### Polynomial over Log"
   ]
  },
  {
   "cell_type": "code",
   "execution_count": null,
   "metadata": {
    "collapsed": false
   },
   "outputs": [],
   "source": [
    "r2x, r2y, s2 = 1, 1000, 2\n",
    "params_1b = (Parameter(r2x, r2y, r2y*1//4, scale=s2, log=True, poly=2),\n",
    "             Parameter(r2x, r2y, r2y*2//4, scale=s2, log=True, poly=2),\n",
    "             Parameter(r2x, r2y, r2y*3//4, scale=s2, log=True, poly=2))\n",
    "\n",
    "vals_1g, vals_1h = individual(params_1b, 10000)"
   ]
  },
  {
   "cell_type": "markdown",
   "metadata": {},
   "source": [
    "## Pair Mutation"
   ]
  },
  {
   "cell_type": "code",
   "execution_count": null,
   "metadata": {
    "collapsed": false,
    "scrolled": true
   },
   "outputs": [],
   "source": [
    "params_2 = (\n",
    "            (Parameter(1.0, 10.0, 4.0, scale=1.0), Parameter(1.0, 10.0, 6.0, scale=1.0)),\n",
    "            (Parameter(1, 10, 1, scale=1.3), Parameter(1, 10, 2, scale=1.3)),\n",
    "            #Parameter(1.0, 10.0, 4.0, scale=1.0, log=True), Parameter(1.0, 10.0, 6.0, scale=1.0, log=True)),\n",
    "            #Parameter(1.0, 10.0, 1.0, scale=1.0, log=True), Parameter(1.0, 10.0, 2.0, scale=1.0, log=True))\n",
    "           )\n",
    "vals2 = np.array([[p1.cross(p2).current for p1, p2 in params_2] for n in range(1000)])"
   ]
  },
  {
   "cell_type": "code",
   "execution_count": null,
   "metadata": {
    "collapsed": false
   },
   "outputs": [],
   "source": [
    "for v in vals2.T:\n",
    "    sns.kdeplot(v)"
   ]
  },
  {
   "cell_type": "code",
   "execution_count": null,
   "metadata": {
    "collapsed": false
   },
   "outputs": [],
   "source": [
    "params_3 = ((Parameter(1.0, 10.0, 4.0, scale=1.0, log=True), Parameter(1.0, 10.0, 6.0, scale=1.0, log=True), 'r'),\n",
    "            (Parameter(1.0, 10.0, 4.0, scale=1.0, log=True), Parameter(1.0, 10.0, 6.0, scale=1.0, log=True), 'lime'))\n",
    "for p1, p2, c in params_3:\n",
    "    vals = np.array([p1.cross(p2).current for _ in range(10)])\n",
    "    density = scipy.stats.gaussian_kde(vals)\n",
    "    density.covariance_factor = lambda : 0.1\n",
    "    density._compute_covariance()\n",
    "    xf = np.linspace(1.0, 10.0, 1000)\n",
    "    yf = density(xf)\n",
    "    sns.tsplot(yf, time=xf, color=c)"
   ]
  },
  {
   "cell_type": "code",
   "execution_count": null,
   "metadata": {
    "collapsed": false
   },
   "outputs": [],
   "source": []
  },
  {
   "cell_type": "code",
   "execution_count": null,
   "metadata": {
    "collapsed": true
   },
   "outputs": [],
   "source": []
  }
 ],
 "metadata": {
  "kernelspec": {
   "display_name": "Python 3",
   "language": "python",
   "name": "python3"
  },
  "language_info": {
   "codemirror_mode": {
    "name": "ipython",
    "version": 3
   },
   "file_extension": ".py",
   "mimetype": "text/x-python",
   "name": "python",
   "nbconvert_exporter": "python",
   "pygments_lexer": "ipython3",
   "version": "3.5.1"
  }
 },
 "nbformat": 4,
 "nbformat_minor": 0
}
